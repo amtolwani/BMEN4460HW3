{
 "cells": [
  {
   "cell_type": "markdown",
   "metadata": {},
   "source": [
    "# Homework 3 - BME E4460 Deep Learning in Biomedical Engineering\n",
    "\n",
    "Instructor’s Name: Dr. Andrew Laine (laine@columbia.edu) and Dr. Jia Guo (jg3400@columbia.edu)\n",
    "\n",
    "Teaching Assistant (TA):  Hengda He (hh2699@columbia.edu)      Grader:  Xueqing Liu (xueqing.liu@columbia.edu)\n",
    "      \n",
    "This assignment comes with two sections.\n",
    "\n",
    "--------------------------------------------------\n",
    "\n",
    "- Section 1: Programming Assignment (70')\n",
    "\n",
    "1) Data loading (15')\n",
    "\n",
    "2) Transfer learning for brain tumor segmentation (40')\n",
    "\n",
    "3) Evaluation (15')\n",
    "\n",
    "- Section 2: Reading Assignment (30')\n",
    "\n",
    "--------------------------------------------------\n",
    "\n",
    "TA office hours:\n",
    "\n",
    "- (Hengda He) Mar 30th, Monday, time 5:00-6:00 pm ('Conference' section of Coursework)\n",
    "- (Hengda He) Apr 6th, Monday, time 5:00-6:00 pm ('Conference' section of Coursework)\n",
    "\n",
    "- (Xueqing Liu) Apr 1st, Wednesday, time 4:00-5:00 pm ('Conference' section of Coursework)\n",
    "- (Xueqing Liu) Apr 8th, Wednesday, time 4:00-5:00 pm ('Conference' section of Coursework)\n",
    "\n",
    "--------------------------------------------------\n",
    "\n",
    "Please remember to stop the VM instances after using (prevent from losing money)\n",
    "\n",
    "Please submit your homework without the dataset (the folder will be too large), and only submit .ipynb, .html, figures and necessary scripts.\n",
    "\n",
    "Homework release date: Mar 26 2020\n",
    "\n",
    "Homework due time: Apr 9 2020 10:00pm\n",
    "\n",
    "Your name and UNI: "
   ]
  },
  {
   "cell_type": "markdown",
   "metadata": {},
   "source": [
    "## Section 1. Programming Assignment (70')"
   ]
  },
  {
   "cell_type": "markdown",
   "metadata": {},
   "source": [
    "Transfer learning is becoming an interesting topic in deep learning which makes learning with little data feasible. For example, a pretrained large scale neural network or a neural network trained on a large-scale dataset can be applied to solve a different but related problem. Another example is fine tuning a pretrained neural network (ex. ImageNet) to solve a problem with little data. Recently, transfer learning has been used for image segmentation like TernausNet (TernausNet: U-Net with VGG11 Encoder Pre-Trained on ImageNet for Image Segmentation, https://arxiv.org/pdf/1801.05746.pdf). In TernausNet, the network used a VGG11 network pretrained on ImageNet to serve as the encoder of a U-Net and trained the rest on the Carvana dataset for an image segmentation task.\n",
    " \n",
    "Additional suggested readings: Transfer Learning for Brain Tumor Segmentation, https://arxiv.org/pdf/1912.12452.pdf"
   ]
  },
  {
   "cell_type": "markdown",
   "metadata": {},
   "source": [
    "### 1. Data loading"
   ]
  },
  {
   "cell_type": "markdown",
   "metadata": {},
   "source": [
    "Please download brain tumor dataset from https://figshare.com/articles/brain_tumor_dataset/1512427 (only the first 766 images). This dataset contains totally 3064 T1-weighted contrast-enhanced images.\n",
    "\n",
    "Randomly select one subject, and display the MRI image and the tumor mask of this patient.\n",
    "\n",
    "Hint: you can use the scripts under 'setup-scripts' folder provided by https://github.com/sdsubhajitdas/Brain-Tumor-Segmentation to download and extract the data."
   ]
  },
  {
   "cell_type": "code",
   "execution_count": null,
   "metadata": {},
   "outputs": [],
   "source": []
  },
  {
   "cell_type": "markdown",
   "metadata": {},
   "source": [
    "### 2. Transfer learning for brain tumor segmentation"
   ]
  },
  {
   "cell_type": "markdown",
   "metadata": {},
   "source": [
    "Train a TernausNet (U-net with pretrained VGG11 on ImageNet) on the magnetic resonance imaging (MRI) images you downloaded in Step 1 for a brain tumor image segmentation task.\n",
    "\n",
    "Please use a pretrained encoder and only train the decoder. Feel free to modify the architecture in TernausNet or use some other pretrained encoder (ex. VGG16) if needed."
   ]
  },
  {
   "cell_type": "code",
   "execution_count": null,
   "metadata": {},
   "outputs": [],
   "source": []
  },
  {
   "cell_type": "markdown",
   "metadata": {},
   "source": [
    "### 3. Evaluation"
   ]
  },
  {
   "cell_type": "markdown",
   "metadata": {},
   "source": [
    "Evaluate the performance of your TernausNet:  What evaluation metric(s) did you use? Comment on the results.  If the results are not satisfied, please explain why, and how you can further improve the segmentation results?"
   ]
  },
  {
   "cell_type": "code",
   "execution_count": null,
   "metadata": {},
   "outputs": [],
   "source": []
  },
  {
   "cell_type": "markdown",
   "metadata": {},
   "source": [
    "## Section 2. Reading Assignment (30')"
   ]
  },
  {
   "cell_type": "markdown",
   "metadata": {},
   "source": [
    "Please read the following paper and answer the following questions"
   ]
  },
  {
   "cell_type": "markdown",
   "metadata": {},
   "source": [
    "Li, Hongming, and Yong Fan. \"Early prediction of Alzheimer’s disease dementia based on baseline hippocampal MRI and 1-year follow-up cognitive measures using deep recurrent neural networks.\" 2019 IEEE 16th International Symposium on Biomedical Imaging (ISBI 2019). IEEE, 2019."
   ]
  },
  {
   "cell_type": "markdown",
   "metadata": {},
   "source": [
    "### 1. What's the input and output of the network?"
   ]
  },
  {
   "cell_type": "markdown",
   "metadata": {},
   "source": []
  },
  {
   "cell_type": "markdown",
   "metadata": {},
   "source": [
    "### 2. How did the author adapt the LSTM in the network and what purpose does the LSTM module serve?"
   ]
  },
  {
   "cell_type": "markdown",
   "metadata": {},
   "source": []
  },
  {
   "cell_type": "markdown",
   "metadata": {},
   "source": [
    "### 3. What do you learn from this paper? Please write a short paragraph to summarize the paper and your throughts."
   ]
  },
  {
   "cell_type": "markdown",
   "metadata": {},
   "source": []
  }
 ],
 "metadata": {
  "kernelspec": {
   "display_name": "Python 3",
   "language": "python",
   "name": "python3"
  },
  "language_info": {
   "codemirror_mode": {
    "name": "ipython",
    "version": 3
   },
   "file_extension": ".py",
   "mimetype": "text/x-python",
   "name": "python",
   "nbconvert_exporter": "python",
   "pygments_lexer": "ipython3",
   "version": "3.7.4"
  }
 },
 "nbformat": 4,
 "nbformat_minor": 4
}
